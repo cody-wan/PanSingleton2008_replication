{
 "cells": [
  {
   "cell_type": "code",
   "execution_count": 2,
   "metadata": {},
   "outputs": [],
   "source": [
    "import numpy as np \n",
    "import pandas as pd \n",
    "import glob"
   ]
  },
  {
   "cell_type": "code",
   "execution_count": 82,
   "metadata": {},
   "outputs": [],
   "source": [
    "# global variables\n",
    "country_names = ['Brazil', 'Bulgaria', 'Chile', 'China', 'Colombia', \n",
    "               'Croatia', 'Korea', 'Malaysia', 'Mexico', 'Philippines', \n",
    "               'Poland', 'Russia', 'SAfrica', 'Thailand', 'Turkey']"
   ]
  },
  {
   "cell_type": "code",
   "execution_count": 55,
   "metadata": {},
   "outputs": [],
   "source": [
    "\"\"\"\n",
    "    compare log likelihood, own script, author table, author fortran code\n",
    "\"\"\"\n",
    "\n",
    "# read own estimation\n",
    "own_df = pd.read_csv(\"logs/log_table4.csv\", names=['ALP', 'BET', 'SIG', 'ALPH', 'BETH', 'SIG1', 'SIG2', 'own_LLK', 'FVALL'])\n",
    "own_df['country'] = country_names\n",
    "own_df = own_df.set_index('country')\n",
    "\n",
    "# read table on estimation result\n",
    "paper_llk = [998.06, 1290.36, 1481.87, 1567.52, 978.67, \n",
    "             1401.06, 1461.71, 1450.38, 1304.45, 1023.43, \n",
    "             1600.79, 1161.84, 1332.30, 1429.16, 1028.71]\n",
    "# add to main dataframe\n",
    "df = (-1*own_df['own_LLK']).to_frame().assign(table4_LLK=paper_llk)\n",
    "\n",
    "# read fortran result\n",
    "temp = []\n",
    "for country in country_names:\n",
    "    temp.append(pd.read_csv(f\"fortran_results/OUTC2_{country}.TXT\", \n",
    "                        delim_whitespace=True, \n",
    "                        header=None, \n",
    "                        names=['ALP', 'BET', 'SIG', 'ALPH', 'BETH', 'SIG1', 'SIG2', 'fortran_LLK', 'FVALL']))\n",
    "fortran_df = pd.concat(temp)\n",
    "fortran_df['country'] = country_names\n",
    "fortran_df = fortran_df.set_index('country')\n",
    "fortran_df['fortran_LLK'] = -1 * fortran_df['fortran_LLK']\n",
    "df['fortran__LLK'] = fortran_df['fortran_LLK']\n",
    "\n",
    "# save comparison in df to local \n",
    "df[['own_LLK', 'fortran__LLK', 'table4_LLK']].to_csv('outputs/comparison/LLK.csv')"
   ]
  },
  {
   "cell_type": "code",
   "execution_count": 106,
   "metadata": {},
   "outputs": [],
   "source": [
    "\"\"\"\n",
    "    compare own and fortran intermediate result (interpolated model CDS prices)\n",
    "\"\"\"\n",
    "\n",
    "mean_diff = []\n",
    "compare_cols = ['XLAM', 'CDS1X', 'CDS1XP', 'CDS3X', 'CDS3XP', 'CDS5X', 'CDS5XP']\n",
    "for country in country_names:\n",
    "    fortran_cds = pd.read_csv(f\"fortran_results/OUTC1_{country}.TXT\", \n",
    "                                delim_whitespace=True, \n",
    "                                header=None, \n",
    "                                names=['XLAM','CDS1Y','CDS1X','CDS1XP','CDS3','CDS3X','CDS3XP','CDS5','CDS5X','CDS5XP'])\n",
    "    own_cds = pd.read_csv(f\"outputs/{country}_CDS.csv\")\n",
    "    # compute average abs difference in each cell\n",
    "    # exclude columns that copy CDS market data\n",
    "    mean_diff.append((np.abs(fortran_cds[compare_cols] - own_cds[compare_cols]).values.sum())/own_cds[compare_cols].size)"
   ]
  },
  {
   "cell_type": "code",
   "execution_count": 108,
   "metadata": {},
   "outputs": [],
   "source": [
    "pd.DataFrame({'CDS_mean_abs_diff':mean_diff, 'country':country_names}).set_index('country').to_csv('outputs/comparison/model_CDS_values.csv')"
   ]
  },
  {
   "cell_type": "code",
   "execution_count": 81,
   "metadata": {},
   "outputs": [],
   "source": []
  },
  {
   "cell_type": "code",
   "execution_count": null,
   "metadata": {},
   "outputs": [],
   "source": []
  }
 ],
 "metadata": {
  "interpreter": {
   "hash": "ad4badbd540aaf7d72ab39ea74c9da0ec6c3302057d45d66aed1deddbea8dc2d"
  },
  "kernelspec": {
   "display_name": "Python 3.8.5 64-bit ('base': conda)",
   "name": "python3"
  },
  "language_info": {
   "codemirror_mode": {
    "name": "ipython",
    "version": 3
   },
   "file_extension": ".py",
   "mimetype": "text/x-python",
   "name": "python",
   "nbconvert_exporter": "python",
   "pygments_lexer": "ipython3",
   "version": "3.8.5"
  },
  "orig_nbformat": 4
 },
 "nbformat": 4,
 "nbformat_minor": 2
}