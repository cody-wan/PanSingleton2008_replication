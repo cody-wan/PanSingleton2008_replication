{
 "cells": [
  {
   "cell_type": "code",
   "execution_count": null,
   "source": [
    "import numpy as np \n",
    "import pandas as pd \n",
    "import glob"
   ],
   "outputs": [],
   "metadata": {}
  },
  {
   "cell_type": "code",
   "execution_count": null,
   "source": [
    "# global variables\n",
    "country_names = ['Brazil', 'Bulgaria', 'Chile', 'China', 'Colombia', \n",
    "               'Croatia', 'Korea', 'Malaysia', 'Mexico', 'Philippines', \n",
    "               'Poland', 'Russia', 'SAfrica', 'Thailand', 'Turkey']"
   ],
   "outputs": [],
   "metadata": {}
  },
  {
   "cell_type": "code",
   "execution_count": null,
   "source": [
    "\"\"\"\n",
    "    compare log likelihood, own script, author table, author fortran code\n",
    "\"\"\"\n",
    "\n",
    "# read own estimation\n",
    "own_df = pd.read_csv(\"logs/log_table4.csv\", names=['ALP', 'BET', 'SIG', 'ALPH', 'BETH', 'SIG1', 'SIG2', 'own_LLK', 'FVALL'])\n",
    "own_df['country'] = country_names\n",
    "own_df = own_df.set_index('country')\n",
    "\n",
    "# read table on estimation result\n",
    "paper_llk = [998.06, 1290.36, 1481.87, 1567.52, 978.67, \n",
    "             1401.06, 1461.71, 1450.38, 1304.45, 1023.43, \n",
    "             1600.79, 1161.84, 1332.30, 1429.16, 1028.71]\n",
    "# add to main dataframe\n",
    "df = (-1*own_df['own_LLK']).to_frame().assign(table4_LLK=paper_llk)\n",
    "\n",
    "# read fortran result\n",
    "temp = []\n",
    "for country in country_names:\n",
    "    temp.append(pd.read_csv(f\"fortran_results/OUTC2_{country}.TXT\", \n",
    "                        delim_whitespace=True, \n",
    "                        header=None, \n",
    "                        names=['ALP', 'BET', 'SIG', 'ALPH', 'BETH', 'SIG1', 'SIG2', 'fortran_LLK', 'FVALL']))\n",
    "fortran_df = pd.concat(temp)\n",
    "fortran_df['country'] = country_names\n",
    "fortran_df = fortran_df.set_index('country')\n",
    "fortran_df['fortran_LLK'] = -1 * fortran_df['fortran_LLK']\n",
    "df['fortran__LLK'] = fortran_df['fortran_LLK']\n",
    "\n",
    "# save comparison in df to local \n",
    "df[['own_LLK', 'fortran__LLK', 'table4_LLK']].to_csv('outputs/comparison/LLK.csv')"
   ],
   "outputs": [],
   "metadata": {}
  },
  {
   "cell_type": "code",
   "execution_count": null,
   "source": [
    "\"\"\"\n",
    "    compare own and fortran intermediate result (interpolated model CDS prices)\n",
    "\"\"\"\n",
    "\n",
    "mean_diff = []\n",
    "compare_cols = ['XLAM', 'CDS1X', 'CDS1XP', 'CDS3X', 'CDS3XP', 'CDS5X', 'CDS5XP']\n",
    "for country in country_names:\n",
    "    fortran_cds = pd.read_csv(f\"fortran_results/OUTC1_{country}.TXT\", \n",
    "                                delim_whitespace=True, \n",
    "                                header=None, \n",
    "                                names=['XLAM','CDS1Y','CDS1X','CDS1XP','CDS3','CDS3X','CDS3XP','CDS5','CDS5X','CDS5XP'])\n",
    "    own_cds = pd.read_csv(f\"outputs/{country}_CDS.csv\")\n",
    "    # compute average abs difference in each cell\n",
    "    # exclude columns that copy CDS market data\n",
    "    mean_diff.append((np.abs(fortran_cds[compare_cols] - own_cds[compare_cols]).values.sum())/own_cds[compare_cols].size)"
   ],
   "outputs": [],
   "metadata": {}
  },
  {
   "cell_type": "code",
   "execution_count": null,
   "source": [
    "pd.DataFrame({'CDS_mean_abs_diff':mean_diff, 'country':country_names}).set_index('country').to_csv('outputs/comparison/model_CDS_values.csv')"
   ],
   "outputs": [],
   "metadata": {}
  },
  {
   "cell_type": "code",
   "execution_count": 1,
   "source": [
    "\"\"\"\n",
    "    numba experimentation\n",
    "\"\"\"\n",
    "import importlib\n",
    "import numpy as np\n",
    "import main\n",
    "\n",
    "# importlib.reload(main)\n",
    "\n",
    "XGUESSES = [[3.52, -0.83, 0.75, -3.38, 0.69, 0.0059, 0.0035]]"
   ],
   "outputs": [],
   "metadata": {}
  },
  {
   "cell_type": "code",
   "execution_count": 2,
   "source": [
    "# 47.6s\n",
    "# -998.2932754704742\n",
    "# main.FUNC(PARM=XGUESSES[0], ICAR_1=0, logging=False, log_file_path=\"\", print_flag=True, test_flag=False)"
   ],
   "outputs": [],
   "metadata": {}
  },
  {
   "cell_type": "code",
   "execution_count": 4,
   "source": [
    "# 37.3\n",
    "# 13.7\n",
    "# 9.2\n",
    "main.FUNC(PARM=XGUESSES[0], ICAR_1=0, logging=False, log_file_path=\"\", print_flag=True, test_flag=False)"
   ],
   "outputs": [
    {
     "output_type": "stream",
     "name": "stdout",
     "text": [
      "[ 3.52e+00 -8.30e-01  7.50e-01 -3.38e+00  6.90e-01  5.90e-03  3.50e-03],-998.2932754704742, 0.00398082755737068\n"
     ]
    },
    {
     "output_type": "execute_result",
     "data": {
      "text/plain": [
       "-998.2932754704742"
      ]
     },
     "metadata": {},
     "execution_count": 4
    }
   ],
   "metadata": {}
  },
  {
   "cell_type": "code",
   "execution_count": 4,
   "source": [],
   "outputs": [],
   "metadata": {}
  },
  {
   "cell_type": "code",
   "execution_count": null,
   "source": [],
   "outputs": [],
   "metadata": {}
  }
 ],
 "metadata": {
  "interpreter": {
   "hash": "ad4badbd540aaf7d72ab39ea74c9da0ec6c3302057d45d66aed1deddbea8dc2d"
  },
  "kernelspec": {
   "name": "python3",
   "display_name": "Python 3.8.5 64-bit ('base': conda)"
  },
  "language_info": {
   "codemirror_mode": {
    "name": "ipython",
    "version": 3
   },
   "file_extension": ".py",
   "mimetype": "text/x-python",
   "name": "python",
   "nbconvert_exporter": "python",
   "pygments_lexer": "ipython3",
   "version": "3.8.5"
  },
  "orig_nbformat": 4
 },
 "nbformat": 4,
 "nbformat_minor": 2
}