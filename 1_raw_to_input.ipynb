{
 "cells": [
  {
   "cell_type": "code",
   "execution_count": 1,
   "source": [
    "import numpy as np \n",
    "import pandas as pd\n",
    "from scipy.interpolate import CubicSpline"
   ],
   "outputs": [],
   "metadata": {}
  },
  {
   "cell_type": "code",
   "execution_count": 61,
   "source": [
    "##############   1. prepare raw CDS data     #################\n",
    "\n",
    "COUNTRY_NUM = 15\n",
    "OUTPUT_REPO = \"EXT_data\"\n",
    "\n",
    "for i in ['1', '3', '5']:\n",
    "    CDS1Y = pd.read_excel(\"raw/bbg_cds_data.xlsx\", sheet_name=f\"CDS{i}Y_values\", dtype=str, na_values=['-1'], parse_dates=[0], index_col=0)\n",
    "    # keep non-NA columns\n",
    "    CDS_columns = [str(col) for col in CDS1Y.columns if \"0\" not in str(col)]\n",
    "    CDS1Y = CDS1Y[CDS_columns[:COUNTRY_NUM]].astype(float)\n",
    "    CDS1Y.to_csv(f\"inputs/{OUTPUT_REPO}/CDS{i}Y.csv\")\n",
    "    # CDS1Y.loc['2003-02-01':].iloc[:85].to_csv(f\"inputs/{OUTPUT_REPO}/CDS{i}Y.csv\")"
   ],
   "outputs": [],
   "metadata": {}
  },
  {
   "cell_type": "code",
   "execution_count": 2,
   "source": [
    "##############   2. construct discount value; boostrap Treasury constant maturity curve       #################\n",
    "# partial credit to Steven Zheng\n",
    "\n",
    "PFILE = pd.read_csv(\"raw/FRB_H15.csv\", header=0, skiprows=[1,2,3,4,5], dtype=str, na_values=['ND'], parse_dates=[0])\n",
    "\n",
    "# rename columns using maturity in weeks\n",
    "new_cols = ['date', 4, 13, 26, 52, 104, 156, 260, 364, 520, 1040, 1560]\n",
    "rename_dict = { col: new_cols[i] for i, col in enumerate(PFILE.columns)}\n",
    "PFILE.rename(columns=rename_dict, inplace=True)\n",
    "# set index, and set values to numeric, % to unit less\n",
    "PFILE = PFILE.set_index('date')\n",
    "PFILE = PFILE.astype({col:np.float for col in PFILE.columns}) / 100\n",
    "# compute discount value\n",
    "for col in PFILE.columns:\n",
    "    PFILE[col] = PFILE[col].apply(func= lambda x: 1. / ( (1 + x) ** (float(col) / 52) ))\n",
    "PFILE = PFILE.dropna(axis=0)"
   ],
   "outputs": [],
   "metadata": {}
  },
  {
   "cell_type": "code",
   "execution_count": 3,
   "source": [
    "# interpolate to fill weekly maturities using cubic spline\n",
    "tenor = PFILE.columns.astype(int)\n",
    "inter_PFILE_list = list()\n",
    "\n",
    "for i, row in PFILE.iterrows():\n",
    "    cs = CubicSpline(x=tenor, y=row.values)\n",
    "    inter_PFILE_list.append([float(cs(t)) for t in range(1,261)])\n",
    "\n",
    "inter_PFILE = pd.DataFrame(index=PFILE.index, columns=range(1,261), data=inter_PFILE_list)"
   ],
   "outputs": [],
   "metadata": {}
  },
  {
   "cell_type": "code",
   "execution_count": 5,
   "source": [
    "# PFILE\n",
    "inter_PFILE.to_csv(\"inputs/Test_data/PFILE.csv\")"
   ],
   "outputs": [],
   "metadata": {}
  }
 ],
 "metadata": {
  "orig_nbformat": 4,
  "language_info": {
   "name": "python",
   "version": "3.8.5",
   "mimetype": "text/x-python",
   "codemirror_mode": {
    "name": "ipython",
    "version": 3
   },
   "pygments_lexer": "ipython3",
   "nbconvert_exporter": "python",
   "file_extension": ".py"
  },
  "kernelspec": {
   "name": "python3",
   "display_name": "Python 3.8.5 64-bit ('base': conda)"
  },
  "interpreter": {
   "hash": "ad4badbd540aaf7d72ab39ea74c9da0ec6c3302057d45d66aed1deddbea8dc2d"
  }
 },
 "nbformat": 4,
 "nbformat_minor": 2
}