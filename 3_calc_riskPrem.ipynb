{
 "cells": [
  {
   "cell_type": "code",
   "execution_count": 1,
   "source": [
    "import pandas as pd\n",
    "import numpy as np \n",
    "import main \n",
    "import pathlib"
   ],
   "outputs": [],
   "metadata": {}
  },
  {
   "cell_type": "code",
   "execution_count": 2,
   "source": [
    "################    1. read P measure parameters and compute CDS^P    ##################\n",
    "\n",
    "\n",
    "# which countries to include\n",
    "country_names = main.TOTAL_COUNTRY_NAMES\n",
    "\n",
    "# DATA_V = 'AEJ_data'\n",
    "DATA_V = 'EXT_data'\n",
    "\n",
    "# DATE_FOLDER = \"2021_8_20\"\n",
    "DATE_FOLDER = \"2021_8_23\"\n"
   ],
   "outputs": [],
   "metadata": {}
  },
  {
   "cell_type": "code",
   "execution_count": 3,
   "source": [
    "df = pd.read_csv(f\"outputs/MLE/{DATA_V}/{DATE_FOLDER}/estimation_table.csv\", index_col=0)\n",
    "p_param = df[['ALP', 'BET', 'SIG', 'ALPH', 'BETH', 'SIG1', 'SIG2']].astype(float)"
   ],
   "outputs": [],
   "metadata": {}
  },
  {
   "cell_type": "code",
   "execution_count": 4,
   "source": [
    "for i, country in enumerate(p_param.index):\n",
    "\n",
    "    # model parameters\n",
    "    CDS1Y, CDS3Y, CDS5Y, PFILE, _ = main.get_input(ICAR_1=i, DATA_V=DATA_V)\n",
    "    PARM = p_param.loc[country].values\n",
    "\n",
    "    # CDS output path\n",
    "    CDS_path = f\"outputs/CDS/{DATA_V}/{DATE_FOLDER}/\"\n",
    "    pathlib.Path(CDS_path).mkdir(parents=True, exist_ok=True)\n",
    "\n",
    "    # compute CDS spreads\n",
    "    main.FUNC_NLLK(PARM=PARM, CDS1Y=CDS1Y, CDS3Y=CDS3Y, CDS5Y=CDS5Y, PFILE=PFILE, country_name=country, \n",
    "                    XB_FLAG=False, LN_FLAG=False, logging=False, print_flag=False,\n",
    "                    CDSLog_flag=True, CDSLog_path=CDS_path) # important\n",
    "    # break"
   ],
   "outputs": [
    {
     "output_type": "stream",
     "name": "stdout",
     "text": [
      "Brazil 2001-11-30 - 2021-7-1 # obs: 236\n",
      "[ 0.494 -0.125  0.689 -2.006  0.453  0.026  0.009],-1369.9023529815272, 0.017506022636673956\n",
      "Bulgaria 2003-1-31 - 2014-3-31 # obs: 134\n",
      "[-4.330e-01  1.010e-01  1.084e+00 -1.672e+00  3.020e-01  2.000e-03\n",
      "  1.000e-03],-1323.535941062298, 0.0013273019212919626\n",
      "Chile 2003-1-31 - 2021-7-1 # obs: 222\n",
      "[-4.390e-01  5.800e-02  1.407e+00 -2.820e+00  4.280e-01  1.000e-03\n",
      "  1.000e-03],-2510.0128848584754, 0.0005390482374397436\n",
      "China 2003-1-31 - 2010-1-29 # obs: 84\n"
     ]
    }
   ],
   "metadata": {}
  },
  {
   "cell_type": "code",
   "execution_count": null,
   "source": [
    "for i, country in enumerate(p_param.index):\n",
    "\n",
    "    # risk-premium file output path\n",
    "    RP_path = f\"outputs/risk_premium/{DATA_V}/{DATE_FOLDER}/\"\n",
    "    pathlib.Path(RP_path).mkdir(parents=True, exist_ok=True)\n",
    "\n",
    "    # read CDS\n",
    "    CDS = pd.read_csv(f\"{CDS_path}/{country}_CDS.csv\") * 10000\n",
    "\n",
    "    # compute and save RP\n",
    "    tenor = 5\n",
    "    CDS[f'RP'] = CDS[f\"CDS{tenor}Y\"] - CDS[f\"CDS{tenor}XP\"]\n",
    "    CDS[f'RP_frac'] = ((CDS[f\"CDS{tenor}Y\"] - CDS[f\"CDS{tenor}XP\"]) / CDS[f\"CDS{tenor}Y\"]) * 100 # unit in %\n",
    "    CDS[['RP', 'RP_frac']].to_csv(f\"{RP_path}/{country}_RP.csv\")\n",
    "\n",
    "    # break"
   ],
   "outputs": [],
   "metadata": {}
  },
  {
   "cell_type": "code",
   "execution_count": null,
   "source": [],
   "outputs": [],
   "metadata": {}
  }
 ],
 "metadata": {
  "orig_nbformat": 4,
  "language_info": {
   "name": "python",
   "version": "3.8.5",
   "mimetype": "text/x-python",
   "codemirror_mode": {
    "name": "ipython",
    "version": 3
   },
   "pygments_lexer": "ipython3",
   "nbconvert_exporter": "python",
   "file_extension": ".py"
  },
  "kernelspec": {
   "name": "python3",
   "display_name": "Python 3.8.5 64-bit ('base': conda)"
  },
  "interpreter": {
   "hash": "ad4badbd540aaf7d72ab39ea74c9da0ec6c3302057d45d66aed1deddbea8dc2d"
  }
 },
 "nbformat": 4,
 "nbformat_minor": 2
}